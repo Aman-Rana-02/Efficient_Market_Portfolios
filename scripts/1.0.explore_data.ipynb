{
 "cells": [
  {
   "cell_type": "code",
   "execution_count": 17,
   "id": "initial_id",
   "metadata": {
    "collapsed": true,
    "ExecuteTime": {
     "end_time": "2025-03-12T23:25:30.891956Z",
     "start_time": "2025-03-12T23:25:30.887027Z"
    }
   },
   "outputs": [],
   "source": [
    "import pandas as pd\n",
    "import os"
   ]
  },
  {
   "cell_type": "code",
   "outputs": [],
   "source": [
    "#Get all sp500 constituents into a single dataframe:\n",
    "sp500_constituents_directory = '../data/sp500'\n",
    "sp500_df = pd.read_csv('../data/_SPXD.csv')\n",
    "sp500_df['date'] = pd.to_datetime(sp500_df['date'])\n",
    "sp500_df['spx_return'] = sp500_df['close'].pct_change()\n",
    "df = pd.DataFrame()\n",
    "for asset in os.listdir(sp500_constituents_directory):\n",
    "    asset_df = pd.read_csv(f'{sp500_constituents_directory}/{asset}', index_col=0)\n",
    "    asset_df['date'] = pd.to_datetime(asset_df['date'])\n",
    "    asset_df['return'] = asset_df['close'].pct_change()\n",
    "    asset_df = asset_df[['date', 'symbol', 'series_id', 'close', 'return']]\n",
    "    asset_df = pd.merge(asset_df, sp500_df[['date', 'spx_return']], on='date')\n",
    "    if len(df) == 0:\n",
    "        df = asset_df\n",
    "    else:\n",
    "        # concat\n",
    "        df = pd.concat([df, asset_df])"
   ],
   "metadata": {
    "collapsed": false,
    "ExecuteTime": {
     "end_time": "2025-03-12T23:27:07.831815Z",
     "start_time": "2025-03-12T23:26:39.208033Z"
    }
   },
   "id": "555bb83ec65dc3a2",
   "execution_count": 19
  },
  {
   "cell_type": "code",
   "outputs": [
    {
     "data": {
      "text/plain": "        date symbol  series_id     close    return  spx_return\n0 1990-02-16   CSCO      58375  0.077257       NaN   -0.006480\n1 1990-02-20   CSCO      58375  0.079861  0.033708   -0.014216\n2 1990-02-21   CSCO      58375  0.078125 -0.021739   -0.000976\n3 1990-02-22   CSCO      58375  0.078993  0.011111   -0.006012\n4 1990-02-23   CSCO      58375  0.078559 -0.005495   -0.004759",
      "text/html": "<div>\n<style scoped>\n    .dataframe tbody tr th:only-of-type {\n        vertical-align: middle;\n    }\n\n    .dataframe tbody tr th {\n        vertical-align: top;\n    }\n\n    .dataframe thead th {\n        text-align: right;\n    }\n</style>\n<table border=\"1\" class=\"dataframe\">\n  <thead>\n    <tr style=\"text-align: right;\">\n      <th></th>\n      <th>date</th>\n      <th>symbol</th>\n      <th>series_id</th>\n      <th>close</th>\n      <th>return</th>\n      <th>spx_return</th>\n    </tr>\n  </thead>\n  <tbody>\n    <tr>\n      <th>0</th>\n      <td>1990-02-16</td>\n      <td>CSCO</td>\n      <td>58375</td>\n      <td>0.077257</td>\n      <td>NaN</td>\n      <td>-0.006480</td>\n    </tr>\n    <tr>\n      <th>1</th>\n      <td>1990-02-20</td>\n      <td>CSCO</td>\n      <td>58375</td>\n      <td>0.079861</td>\n      <td>0.033708</td>\n      <td>-0.014216</td>\n    </tr>\n    <tr>\n      <th>2</th>\n      <td>1990-02-21</td>\n      <td>CSCO</td>\n      <td>58375</td>\n      <td>0.078125</td>\n      <td>-0.021739</td>\n      <td>-0.000976</td>\n    </tr>\n    <tr>\n      <th>3</th>\n      <td>1990-02-22</td>\n      <td>CSCO</td>\n      <td>58375</td>\n      <td>0.078993</td>\n      <td>0.011111</td>\n      <td>-0.006012</td>\n    </tr>\n    <tr>\n      <th>4</th>\n      <td>1990-02-23</td>\n      <td>CSCO</td>\n      <td>58375</td>\n      <td>0.078559</td>\n      <td>-0.005495</td>\n      <td>-0.004759</td>\n    </tr>\n  </tbody>\n</table>\n</div>"
     },
     "execution_count": 20,
     "metadata": {},
     "output_type": "execute_result"
    }
   ],
   "source": [
    "df.head()"
   ],
   "metadata": {
    "collapsed": false,
    "ExecuteTime": {
     "end_time": "2025-03-12T23:27:07.842351Z",
     "start_time": "2025-03-12T23:27:07.833951Z"
    }
   },
   "id": "591b583533fa61b9",
   "execution_count": 20
  },
  {
   "cell_type": "code",
   "outputs": [],
   "source": [],
   "metadata": {
    "collapsed": false
   },
   "id": "dfdbd1d38b199bcf"
  }
 ],
 "metadata": {
  "kernelspec": {
   "display_name": "Python 3",
   "language": "python",
   "name": "python3"
  },
  "language_info": {
   "codemirror_mode": {
    "name": "ipython",
    "version": 2
   },
   "file_extension": ".py",
   "mimetype": "text/x-python",
   "name": "python",
   "nbconvert_exporter": "python",
   "pygments_lexer": "ipython2",
   "version": "2.7.6"
  }
 },
 "nbformat": 4,
 "nbformat_minor": 5
}
