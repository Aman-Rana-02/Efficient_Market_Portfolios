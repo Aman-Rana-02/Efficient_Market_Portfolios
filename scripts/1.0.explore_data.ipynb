{
 "cells": [
  {
   "cell_type": "code",
   "execution_count": 3,
   "id": "initial_id",
   "metadata": {
    "collapsed": true,
    "ExecuteTime": {
     "end_time": "2025-03-12T22:25:07.556096Z",
     "start_time": "2025-03-12T22:25:07.534284Z"
    }
   },
   "outputs": [],
   "source": [
    "import pandas as pd"
   ]
  },
  {
   "cell_type": "code",
   "outputs": [],
   "source": [
    "df = pd.read_parquet('../data/market_data.parquet')"
   ],
   "metadata": {
    "collapsed": false,
    "ExecuteTime": {
     "end_time": "2025-03-12T22:25:09.105811Z",
     "start_time": "2025-03-12T22:25:08.590818Z"
    }
   },
   "id": "555bb83ec65dc3a2",
   "execution_count": 4
  },
  {
   "cell_type": "code",
   "outputs": [
    {
     "data": {
      "text/plain": "     mthcaldt  permno sharetype securitytype securitysubtype usincflg  \\\n48 1988-07-29   10001        NS         EQTY             COM        Y   \n49 1988-08-31   10001        NS         EQTY             COM        Y   \n50 1988-09-30   10001        NS         EQTY             COM        Y   \n51 1988-10-31   10001        NS         EQTY             COM        Y   \n52 1988-11-30   10001        NS         EQTY             COM        Y   \n\n   issuertype primaryexch conditionaltype tradingstatusflg  ...       me  \\\n48       CORP           Q              RW                A  ...  6386.00   \n49       CORP           Q              RW                A  ...  6572.00   \n50       CORP           Q              RW                A  ...  6362.25   \n51       CORP           Q              RW                A  ...  6611.75   \n52       CORP           Q              RW                A  ...  6611.75   \n\n             wt  cumretx  ffyear      jdate szport bmport posbm  nonmissport  \\\n48  6200.000000     1.03    1988 1988-07-31      S      H   1.0          1.0   \n49  6386.000000     1.06    1988 1988-08-31      S      H   1.0          1.0   \n50  6571.998636     1.02    1988 1988-09-30      S      H   1.0          1.0   \n51  6323.997695     1.06    1988 1988-10-31      S      H   1.0          1.0   \n52  6571.999589     1.06    1988 1988-11-30      S      H   1.0          1.0   \n\n        beme  \n48  1.207618  \n49  1.207618  \n50  1.207618  \n51  1.207618  \n52  1.207618  \n\n[5 rows x 21 columns]",
      "text/html": "<div>\n<style scoped>\n    .dataframe tbody tr th:only-of-type {\n        vertical-align: middle;\n    }\n\n    .dataframe tbody tr th {\n        vertical-align: top;\n    }\n\n    .dataframe thead th {\n        text-align: right;\n    }\n</style>\n<table border=\"1\" class=\"dataframe\">\n  <thead>\n    <tr style=\"text-align: right;\">\n      <th></th>\n      <th>mthcaldt</th>\n      <th>permno</th>\n      <th>sharetype</th>\n      <th>securitytype</th>\n      <th>securitysubtype</th>\n      <th>usincflg</th>\n      <th>issuertype</th>\n      <th>primaryexch</th>\n      <th>conditionaltype</th>\n      <th>tradingstatusflg</th>\n      <th>...</th>\n      <th>me</th>\n      <th>wt</th>\n      <th>cumretx</th>\n      <th>ffyear</th>\n      <th>jdate</th>\n      <th>szport</th>\n      <th>bmport</th>\n      <th>posbm</th>\n      <th>nonmissport</th>\n      <th>beme</th>\n    </tr>\n  </thead>\n  <tbody>\n    <tr>\n      <th>48</th>\n      <td>1988-07-29</td>\n      <td>10001</td>\n      <td>NS</td>\n      <td>EQTY</td>\n      <td>COM</td>\n      <td>Y</td>\n      <td>CORP</td>\n      <td>Q</td>\n      <td>RW</td>\n      <td>A</td>\n      <td>...</td>\n      <td>6386.00</td>\n      <td>6200.000000</td>\n      <td>1.03</td>\n      <td>1988</td>\n      <td>1988-07-31</td>\n      <td>S</td>\n      <td>H</td>\n      <td>1.0</td>\n      <td>1.0</td>\n      <td>1.207618</td>\n    </tr>\n    <tr>\n      <th>49</th>\n      <td>1988-08-31</td>\n      <td>10001</td>\n      <td>NS</td>\n      <td>EQTY</td>\n      <td>COM</td>\n      <td>Y</td>\n      <td>CORP</td>\n      <td>Q</td>\n      <td>RW</td>\n      <td>A</td>\n      <td>...</td>\n      <td>6572.00</td>\n      <td>6386.000000</td>\n      <td>1.06</td>\n      <td>1988</td>\n      <td>1988-08-31</td>\n      <td>S</td>\n      <td>H</td>\n      <td>1.0</td>\n      <td>1.0</td>\n      <td>1.207618</td>\n    </tr>\n    <tr>\n      <th>50</th>\n      <td>1988-09-30</td>\n      <td>10001</td>\n      <td>NS</td>\n      <td>EQTY</td>\n      <td>COM</td>\n      <td>Y</td>\n      <td>CORP</td>\n      <td>Q</td>\n      <td>RW</td>\n      <td>A</td>\n      <td>...</td>\n      <td>6362.25</td>\n      <td>6571.998636</td>\n      <td>1.02</td>\n      <td>1988</td>\n      <td>1988-09-30</td>\n      <td>S</td>\n      <td>H</td>\n      <td>1.0</td>\n      <td>1.0</td>\n      <td>1.207618</td>\n    </tr>\n    <tr>\n      <th>51</th>\n      <td>1988-10-31</td>\n      <td>10001</td>\n      <td>NS</td>\n      <td>EQTY</td>\n      <td>COM</td>\n      <td>Y</td>\n      <td>CORP</td>\n      <td>Q</td>\n      <td>RW</td>\n      <td>A</td>\n      <td>...</td>\n      <td>6611.75</td>\n      <td>6323.997695</td>\n      <td>1.06</td>\n      <td>1988</td>\n      <td>1988-10-31</td>\n      <td>S</td>\n      <td>H</td>\n      <td>1.0</td>\n      <td>1.0</td>\n      <td>1.207618</td>\n    </tr>\n    <tr>\n      <th>52</th>\n      <td>1988-11-30</td>\n      <td>10001</td>\n      <td>NS</td>\n      <td>EQTY</td>\n      <td>COM</td>\n      <td>Y</td>\n      <td>CORP</td>\n      <td>Q</td>\n      <td>RW</td>\n      <td>A</td>\n      <td>...</td>\n      <td>6611.75</td>\n      <td>6571.999589</td>\n      <td>1.06</td>\n      <td>1988</td>\n      <td>1988-11-30</td>\n      <td>S</td>\n      <td>H</td>\n      <td>1.0</td>\n      <td>1.0</td>\n      <td>1.207618</td>\n    </tr>\n  </tbody>\n</table>\n<p>5 rows × 21 columns</p>\n</div>"
     },
     "execution_count": 5,
     "metadata": {},
     "output_type": "execute_result"
    }
   ],
   "source": [
    "df.head()"
   ],
   "metadata": {
    "collapsed": false,
    "ExecuteTime": {
     "end_time": "2025-03-12T22:25:09.118990Z",
     "start_time": "2025-03-12T22:25:09.106917Z"
    }
   },
   "id": "7f8fc339754ed293",
   "execution_count": 5
  },
  {
   "cell_type": "code",
   "outputs": [
    {
     "data": {
      "text/plain": "20986"
     },
     "execution_count": 6,
     "metadata": {},
     "output_type": "execute_result"
    }
   ],
   "source": [
    "df['permno'].nunique()"
   ],
   "metadata": {
    "collapsed": false,
    "ExecuteTime": {
     "end_time": "2025-03-12T22:25:48.197148Z",
     "start_time": "2025-03-12T22:25:48.181905Z"
    }
   },
   "id": "9d10657118bda2c4",
   "execution_count": 6
  },
  {
   "cell_type": "code",
   "outputs": [],
   "source": [],
   "metadata": {
    "collapsed": false
   },
   "id": "dfdbd1d38b199bcf"
  }
 ],
 "metadata": {
  "kernelspec": {
   "display_name": "Python 3",
   "language": "python",
   "name": "python3"
  },
  "language_info": {
   "codemirror_mode": {
    "name": "ipython",
    "version": 2
   },
   "file_extension": ".py",
   "mimetype": "text/x-python",
   "name": "python",
   "nbconvert_exporter": "python",
   "pygments_lexer": "ipython2",
   "version": "2.7.6"
  }
 },
 "nbformat": 4,
 "nbformat_minor": 5
}
