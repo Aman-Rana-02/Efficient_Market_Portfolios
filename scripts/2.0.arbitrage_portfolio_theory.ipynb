{
 "cells": [
  {
   "cell_type": "code",
   "execution_count": 3,
   "id": "initial_id",
   "metadata": {
    "collapsed": true,
    "ExecuteTime": {
     "end_time": "2025-03-24T21:12:49.473372Z",
     "start_time": "2025-03-24T21:12:46.452315Z"
    }
   },
   "outputs": [],
   "source": [
    "import numpy as np\n",
    "import pandas as pd\n",
    "import matplotlib.pyplot as plt\n",
    "import statsmodels.api as sm\n",
    "from scipy.optimize import minimize\n",
    "import os\n",
    "import warnings\n",
    "\n",
    "warnings.simplefilter(action='ignore', category=FutureWarning)\n",
    "sp500_constituents_directory = '../data/sp500'"
   ]
  },
  {
   "cell_type": "code",
   "outputs": [
    {
     "data": {
      "text/plain": "        date  Mkt-RF     SMB     HML       RF\n0 1926-07-01  0.0010 -0.0025 -0.0027  0.00009\n1 1926-07-02  0.0045 -0.0033 -0.0006  0.00009\n2 1926-07-06  0.0017  0.0030 -0.0039  0.00009\n3 1926-07-07  0.0009 -0.0058  0.0002  0.00009\n4 1926-07-08  0.0021 -0.0038  0.0019  0.00009",
      "text/html": "<div>\n<style scoped>\n    .dataframe tbody tr th:only-of-type {\n        vertical-align: middle;\n    }\n\n    .dataframe tbody tr th {\n        vertical-align: top;\n    }\n\n    .dataframe thead th {\n        text-align: right;\n    }\n</style>\n<table border=\"1\" class=\"dataframe\">\n  <thead>\n    <tr style=\"text-align: right;\">\n      <th></th>\n      <th>date</th>\n      <th>Mkt-RF</th>\n      <th>SMB</th>\n      <th>HML</th>\n      <th>RF</th>\n    </tr>\n  </thead>\n  <tbody>\n    <tr>\n      <th>0</th>\n      <td>1926-07-01</td>\n      <td>0.0010</td>\n      <td>-0.0025</td>\n      <td>-0.0027</td>\n      <td>0.00009</td>\n    </tr>\n    <tr>\n      <th>1</th>\n      <td>1926-07-02</td>\n      <td>0.0045</td>\n      <td>-0.0033</td>\n      <td>-0.0006</td>\n      <td>0.00009</td>\n    </tr>\n    <tr>\n      <th>2</th>\n      <td>1926-07-06</td>\n      <td>0.0017</td>\n      <td>0.0030</td>\n      <td>-0.0039</td>\n      <td>0.00009</td>\n    </tr>\n    <tr>\n      <th>3</th>\n      <td>1926-07-07</td>\n      <td>0.0009</td>\n      <td>-0.0058</td>\n      <td>0.0002</td>\n      <td>0.00009</td>\n    </tr>\n    <tr>\n      <th>4</th>\n      <td>1926-07-08</td>\n      <td>0.0021</td>\n      <td>-0.0038</td>\n      <td>0.0019</td>\n      <td>0.00009</td>\n    </tr>\n  </tbody>\n</table>\n</div>"
     },
     "execution_count": 4,
     "metadata": {},
     "output_type": "execute_result"
    }
   ],
   "source": [
    "ff3 = pd.read_csv('../data/F-F_Research_Data_Factors_daily.CSV')\n",
    "ff3['date'] = pd.to_datetime(ff3['date'], format='%Y%m%d')\n",
    "ff3['RF'] = ff3['RF'] / 100\n",
    "ff3['Mkt-RF'] = ff3['Mkt-RF'] / 100\n",
    "ff3['SMB'] = ff3['SMB'] / 100\n",
    "ff3['HML'] = ff3['HML'] / 100\n",
    "ff3.head()"
   ],
   "metadata": {
    "collapsed": false,
    "ExecuteTime": {
     "end_time": "2025-03-24T21:12:49.506013Z",
     "start_time": "2025-03-24T21:12:49.474444Z"
    }
   },
   "id": "8ad7c172e721f6dd",
   "execution_count": 4
  },
  {
   "cell_type": "markdown",
   "source": [],
   "metadata": {
    "collapsed": false
   },
   "id": "aef451c65d1fc171"
  },
  {
   "cell_type": "code",
   "outputs": [
    {
     "name": "stdout",
     "output_type": "stream",
     "text": [
      "KR.csv\n"
     ]
    }
   ],
   "source": [
    "df = pd.DataFrame()\n",
    "for asset in os.listdir(sp500_constituents_directory):\n",
    "    asset_df = pd.read_csv(f'{sp500_constituents_directory}/{asset}', index_col=0)\n",
    "    asset_df['date'] = pd.to_datetime(asset_df['date'])\n",
    "    if (asset_df['close'] == 0).sum() > 0:\n",
    "        print(asset)\n",
    "        asset_df['close'].replace(0, np.nan, inplace=True)\n",
    "        asset_df['close'] = asset_df['close'].ffill()\n",
    "    asset_df['return'] = asset_df['close'].pct_change()\n",
    "    asset_df.dropna(subset=['return'], inplace=True)\n",
    "    asset_df = asset_df[['date', 'symbol', 'series_id', 'close', 'return']]\n",
    "    asset_df = pd.merge(asset_df, ff3[['date', 'RF', 'Mkt-RF', 'SMB', 'HML']], on='date')\n",
    "    if len(df) == 0:\n",
    "        df = asset_df\n",
    "    else:\n",
    "        # concat\n",
    "        df = pd.concat([df, asset_df])\n",
    "df['return'] = df['return'] - df['RF']\n",
    "df = df[df['date'] > '2015-01-01']"
   ],
   "metadata": {
    "collapsed": false,
    "ExecuteTime": {
     "end_time": "2025-03-24T21:13:27.912764Z",
     "start_time": "2025-03-24T21:12:49.507164Z"
    }
   },
   "id": "826c4b64bd057e4e",
   "execution_count": 5
  },
  {
   "cell_type": "code",
   "outputs": [
    {
     "data": {
      "text/plain": "count    1.230070e+06\nmean     4.966915e-04\nstd      2.099399e-02\nmin     -8.206364e-01\n25%     -8.410386e-03\n50%      6.404895e-04\n75%      9.546726e-03\nmax      4.803086e+00\nName: return, dtype: float64"
     },
     "execution_count": 6,
     "metadata": {},
     "output_type": "execute_result"
    }
   ],
   "source": [
    "df['return'].describe()"
   ],
   "metadata": {
    "collapsed": false,
    "ExecuteTime": {
     "end_time": "2025-03-24T21:13:27.955342Z",
     "start_time": "2025-03-24T21:13:27.915379Z"
    }
   },
   "id": "485ff49df74aab25",
   "execution_count": 6
  },
  {
   "cell_type": "code",
   "outputs": [
    {
     "name": "stdout",
     "output_type": "stream",
     "text": [
      "1230070\n",
      "1212112\n"
     ]
    }
   ],
   "source": [
    "# Print the 10 rows with the highest df['return']\n",
    "df['return_z_score'] = (df['return'] - df['return'].mean()) / df['return'].std()\n",
    "print(len(df))\n",
    "df = df[(df['return_z_score'] <= 3) & (df['return_z_score'] >= -3)]\n",
    "print(len(df))"
   ],
   "metadata": {
    "collapsed": false,
    "ExecuteTime": {
     "end_time": "2025-03-24T21:13:28.031381Z",
     "start_time": "2025-03-24T21:13:27.956144Z"
    }
   },
   "id": "b5ef9b0a93fa7e07",
   "execution_count": 7
  },
  {
   "cell_type": "code",
   "outputs": [],
   "source": [
    "factors = ['Mkt-RF', 'SMB', 'HML']  # List of factor returns\n",
    "factor_betas = []\n",
    "\n",
    "for asset, asset_data in df.groupby('symbol'):\n",
    "    X = asset_data[factors]  # Use multiple factors\n",
    "    X = sm.add_constant(X)  # Add intercept\n",
    "    y = asset_data['return']\n",
    "    \n",
    "    model = sm.OLS(y, X)\n",
    "    results = model.fit()\n",
    "    \n",
    "    # Store betas for each factor along with the expected return\n",
    "    beta_values = {f'{factor}_loading': results.params[factor] for factor in factors}\n",
    "    beta_values['symbol'] = asset\n",
    "    \n",
    "    factor_betas.append(beta_values)\n",
    "\n",
    "# capm_betas is a list of dicts containing betas for each stock and expected return\n",
    "# capm_betas_dict is a dictionary mapping each stock to its betas"
   ],
   "metadata": {
    "collapsed": false,
    "ExecuteTime": {
     "end_time": "2025-03-24T21:13:28.629617Z",
     "start_time": "2025-03-24T21:13:28.032441Z"
    }
   },
   "id": "5e1950ef8e763ac1",
   "execution_count": 8
  },
  {
   "cell_type": "code",
   "outputs": [
    {
     "data": {
      "text/plain": "   Mkt-RF_loading  SMB_loading  HML_loading symbol\n0        0.982827     0.077516    -0.159084      A\n1        1.113392    -0.250614    -0.378536   AAPL\n2        0.596637    -0.207678     0.043559   ABBV\n3        1.152474     0.520908    -0.294504   ABNB\n4        0.785958    -0.263488    -0.181972    ABT",
      "text/html": "<div>\n<style scoped>\n    .dataframe tbody tr th:only-of-type {\n        vertical-align: middle;\n    }\n\n    .dataframe tbody tr th {\n        vertical-align: top;\n    }\n\n    .dataframe thead th {\n        text-align: right;\n    }\n</style>\n<table border=\"1\" class=\"dataframe\">\n  <thead>\n    <tr style=\"text-align: right;\">\n      <th></th>\n      <th>Mkt-RF_loading</th>\n      <th>SMB_loading</th>\n      <th>HML_loading</th>\n      <th>symbol</th>\n    </tr>\n  </thead>\n  <tbody>\n    <tr>\n      <th>0</th>\n      <td>0.982827</td>\n      <td>0.077516</td>\n      <td>-0.159084</td>\n      <td>A</td>\n    </tr>\n    <tr>\n      <th>1</th>\n      <td>1.113392</td>\n      <td>-0.250614</td>\n      <td>-0.378536</td>\n      <td>AAPL</td>\n    </tr>\n    <tr>\n      <th>2</th>\n      <td>0.596637</td>\n      <td>-0.207678</td>\n      <td>0.043559</td>\n      <td>ABBV</td>\n    </tr>\n    <tr>\n      <th>3</th>\n      <td>1.152474</td>\n      <td>0.520908</td>\n      <td>-0.294504</td>\n      <td>ABNB</td>\n    </tr>\n    <tr>\n      <th>4</th>\n      <td>0.785958</td>\n      <td>-0.263488</td>\n      <td>-0.181972</td>\n      <td>ABT</td>\n    </tr>\n  </tbody>\n</table>\n</div>"
     },
     "execution_count": 9,
     "metadata": {},
     "output_type": "execute_result"
    }
   ],
   "source": [
    "factor_betas = pd.DataFrame(factor_betas)\n",
    "factor_betas.head()"
   ],
   "metadata": {
    "collapsed": false,
    "ExecuteTime": {
     "end_time": "2025-03-24T21:13:28.635877Z",
     "start_time": "2025-03-24T21:13:28.630414Z"
    }
   },
   "id": "c8972a9a9f5a596c",
   "execution_count": 9
  },
  {
   "cell_type": "code",
   "outputs": [
    {
     "data": {
      "text/plain": "        date symbol  series_id  close    return   RF  Mkt-RF     SMB     HML  \\\n0 2015-01-02   CSCO      58375  27.61 -0.007549  0.0 -0.0012 -0.0061  0.0008   \n1 2015-01-05   CSCO      58375  27.06 -0.019920  0.0 -0.0184  0.0033 -0.0068   \n2 2015-01-06   CSCO      58375  27.05 -0.000370  0.0 -0.0104 -0.0078 -0.0031   \n3 2015-01-07   CSCO      58375  27.30  0.009242  0.0  0.0119  0.0020 -0.0066   \n4 2015-01-08   CSCO      58375  27.51  0.007692  0.0  0.0181 -0.0012 -0.0028   \n\n   return_z_score  Mkt-RF_loading  SMB_loading  HML_loading  \n0       -0.383215        0.934331    -0.223223     0.044192  \n1       -0.972517        0.934331    -0.223223     0.044192  \n2       -0.041261        0.934331    -0.223223     0.044192  \n3        0.416569        0.934331    -0.223223     0.044192  \n4        0.342747        0.934331    -0.223223     0.044192  ",
      "text/html": "<div>\n<style scoped>\n    .dataframe tbody tr th:only-of-type {\n        vertical-align: middle;\n    }\n\n    .dataframe tbody tr th {\n        vertical-align: top;\n    }\n\n    .dataframe thead th {\n        text-align: right;\n    }\n</style>\n<table border=\"1\" class=\"dataframe\">\n  <thead>\n    <tr style=\"text-align: right;\">\n      <th></th>\n      <th>date</th>\n      <th>symbol</th>\n      <th>series_id</th>\n      <th>close</th>\n      <th>return</th>\n      <th>RF</th>\n      <th>Mkt-RF</th>\n      <th>SMB</th>\n      <th>HML</th>\n      <th>return_z_score</th>\n      <th>Mkt-RF_loading</th>\n      <th>SMB_loading</th>\n      <th>HML_loading</th>\n    </tr>\n  </thead>\n  <tbody>\n    <tr>\n      <th>0</th>\n      <td>2015-01-02</td>\n      <td>CSCO</td>\n      <td>58375</td>\n      <td>27.61</td>\n      <td>-0.007549</td>\n      <td>0.0</td>\n      <td>-0.0012</td>\n      <td>-0.0061</td>\n      <td>0.0008</td>\n      <td>-0.383215</td>\n      <td>0.934331</td>\n      <td>-0.223223</td>\n      <td>0.044192</td>\n    </tr>\n    <tr>\n      <th>1</th>\n      <td>2015-01-05</td>\n      <td>CSCO</td>\n      <td>58375</td>\n      <td>27.06</td>\n      <td>-0.019920</td>\n      <td>0.0</td>\n      <td>-0.0184</td>\n      <td>0.0033</td>\n      <td>-0.0068</td>\n      <td>-0.972517</td>\n      <td>0.934331</td>\n      <td>-0.223223</td>\n      <td>0.044192</td>\n    </tr>\n    <tr>\n      <th>2</th>\n      <td>2015-01-06</td>\n      <td>CSCO</td>\n      <td>58375</td>\n      <td>27.05</td>\n      <td>-0.000370</td>\n      <td>0.0</td>\n      <td>-0.0104</td>\n      <td>-0.0078</td>\n      <td>-0.0031</td>\n      <td>-0.041261</td>\n      <td>0.934331</td>\n      <td>-0.223223</td>\n      <td>0.044192</td>\n    </tr>\n    <tr>\n      <th>3</th>\n      <td>2015-01-07</td>\n      <td>CSCO</td>\n      <td>58375</td>\n      <td>27.30</td>\n      <td>0.009242</td>\n      <td>0.0</td>\n      <td>0.0119</td>\n      <td>0.0020</td>\n      <td>-0.0066</td>\n      <td>0.416569</td>\n      <td>0.934331</td>\n      <td>-0.223223</td>\n      <td>0.044192</td>\n    </tr>\n    <tr>\n      <th>4</th>\n      <td>2015-01-08</td>\n      <td>CSCO</td>\n      <td>58375</td>\n      <td>27.51</td>\n      <td>0.007692</td>\n      <td>0.0</td>\n      <td>0.0181</td>\n      <td>-0.0012</td>\n      <td>-0.0028</td>\n      <td>0.342747</td>\n      <td>0.934331</td>\n      <td>-0.223223</td>\n      <td>0.044192</td>\n    </tr>\n  </tbody>\n</table>\n</div>"
     },
     "execution_count": 10,
     "metadata": {},
     "output_type": "execute_result"
    }
   ],
   "source": [
    "df = pd.merge(df, factor_betas, on='symbol')\n",
    "df.head()"
   ],
   "metadata": {
    "collapsed": false,
    "ExecuteTime": {
     "end_time": "2025-03-24T21:13:28.765890Z",
     "start_time": "2025-03-24T21:13:28.636853Z"
    }
   },
   "id": "b704fa0d139bc54b",
   "execution_count": 10
  },
  {
   "cell_type": "code",
   "outputs": [],
   "source": [
    "# Dictionary to store the risk premiums (gamma values) for each time period\n",
    "factor_gammas = {}\n",
    "factor_loadings = [f\"{factor}_loading\" for factor in factors]\n",
    "# Grouping the DataFrame by reporting periods (time periods)\n",
    "all_periods = df['date'].nunique()\n",
    "for period, period_group in df.groupby('date'):\n",
    "\n",
    "    # The dependent variable (returns for the current time period)\n",
    "    y = period_group['return']\n",
    "    X = period_group[factor_loadings]\n",
    "    X = sm.add_constant(X)\n",
    "\n",
    "    # Fit the Fama-Macbeth regression for this period\n",
    "    model = sm.OLS(y, X).fit()\n",
    "\n",
    "    # Store the risk premiums (gamma coefficients) for this period\n",
    "    params = model.params.to_dict()\n",
    "    #rename to f'{factor}_premium'\n",
    "    factor_gammas[period] = {f'{factor}_premium': params[factor] for factor in factor_loadings}"
   ],
   "metadata": {
    "collapsed": false,
    "ExecuteTime": {
     "end_time": "2025-03-24T21:13:30.929475Z",
     "start_time": "2025-03-24T21:13:28.766698Z"
    }
   },
   "id": "b8aa7466d09921d0",
   "execution_count": 11
  },
  {
   "cell_type": "code",
   "outputs": [
    {
     "ename": "NameError",
     "evalue": "name 'rp_df' is not defined",
     "output_type": "error",
     "traceback": [
      "\u001B[31m---------------------------------------------------------------------------\u001B[39m",
      "\u001B[31mNameError\u001B[39m                                 Traceback (most recent call last)",
      "\u001B[36mCell\u001B[39m\u001B[36m \u001B[39m\u001B[32mIn[12]\u001B[39m\u001B[32m, line 1\u001B[39m\n\u001B[32m----> \u001B[39m\u001B[32m1\u001B[39m \u001B[43mrp_df\u001B[49m\n",
      "\u001B[31mNameError\u001B[39m: name 'rp_df' is not defined"
     ]
    }
   ],
   "source": [
    "rp_df"
   ],
   "metadata": {
    "collapsed": false,
    "ExecuteTime": {
     "end_time": "2025-03-24T21:13:31.019127Z",
     "start_time": "2025-03-24T21:13:30.931832Z"
    }
   },
   "id": "f162c66d3141629d",
   "execution_count": 12
  },
  {
   "cell_type": "code",
   "outputs": [],
   "source": [
    "risk_premiums = [f'{factor}_premium' for factor in factor_loadings]\n",
    "rp_df = pd.DataFrame.from_dict(factor_gammas, orient='index')\n",
    "expected_factor_returns = rp_df[risk_premiums].mean().to_dict()\n",
    "expected_factor_cov_matrix = rp_df[risk_premiums].cov()\n",
    "rp_df.head()"
   ],
   "metadata": {
    "collapsed": false,
    "ExecuteTime": {
     "end_time": "2025-03-24T21:13:31.020038Z",
     "start_time": "2025-03-24T21:13:31.019961Z"
    }
   },
   "id": "48255b6102d4d261",
   "execution_count": null
  },
  {
   "cell_type": "code",
   "outputs": [],
   "source": [
    "rp_df[risk_premiums].cumsum().plot()"
   ],
   "metadata": {
    "collapsed": false,
    "ExecuteTime": {
     "end_time": "2025-03-24T21:13:31.021278Z",
     "start_time": "2025-03-24T21:13:31.020758Z"
    }
   },
   "id": "a0a69b57c7b1be3d",
   "execution_count": null
  },
  {
   "cell_type": "code",
   "outputs": [],
   "source": [
    "(rp_df[risk_premiums].rolling(window=252).mean()*252).plot(grid=True)"
   ],
   "metadata": {
    "collapsed": false
   },
   "id": "5dc2eb13c93e0cc4",
   "execution_count": null
  },
  {
   "cell_type": "code",
   "outputs": [],
   "source": [
    "for factor_rp in risk_premiums:\n",
    "    df[factor_rp] = expected_factor_returns[factor_rp]\n",
    "# df = pd.merge(df, rp_df, left_on='date', right_index=True)\n",
    "df['expected_return'] = 0\n",
    "for factor_rp in risk_premiums:\n",
    "    df['expected_return'] += df[factor_rp] * df[factor_rp.replace('_premium', '')]"
   ],
   "metadata": {
    "collapsed": false
   },
   "id": "addee8152b5c0390",
   "execution_count": null
  },
  {
   "cell_type": "code",
   "outputs": [],
   "source": [
    "# Run regressions to get asset-specific idiocyncratic risk\n",
    "idiocyncratic_risks = []\n",
    "for asset, asset_data in df.groupby('symbol'):\n",
    "    X = asset_data['expected_return']\n",
    "    X = sm.add_constant(X)\n",
    "    y = asset_data['return']\n",
    "    model = sm.OLS(y, X)\n",
    "    results = model.fit()\n",
    "    idiocyncratic_risks.append({'symbol': asset, 'idio_risk': results.resid.var()})"
   ],
   "metadata": {
    "collapsed": false
   },
   "id": "53e09fe72efd7e0a",
   "execution_count": null
  },
  {
   "cell_type": "code",
   "outputs": [],
   "source": [
    "sigma = pd.DataFrame(idiocyncratic_risks)\n",
    "#make this a diagonal matrix\n",
    "idio_risk_matrix = np.diag(sigma['idio_risk'])"
   ],
   "metadata": {
    "collapsed": false
   },
   "id": "6bc1fb58fb3e274b",
   "execution_count": null
  },
  {
   "cell_type": "code",
   "outputs": [],
   "source": [
    "factor_betas"
   ],
   "metadata": {
    "collapsed": false
   },
   "id": "b3e705a93546210f"
  },
  {
   "cell_type": "code",
   "outputs": [],
   "source": [
    "# Assuming `factor_betas`, `expected_factor_cov_matrix`, and `sigma` exist and are correctly structured\n",
    "\n",
    "# Extract factor loadings matrix (B) and expected returns\n",
    "B = factor_betas.drop(columns=['expected_return', 'symbol']).values  # Shape (N, K)\n",
    "expected_returns = factor_betas['expected_return'].values  # Shape (N,)\n",
    "\n",
    "# Convert expected_factor_cov_matrix to numpy array (Σ_F)\n",
    "Sigma_F = expected_factor_cov_matrix.values  # Shape (K, K)\n",
    "\n",
    "# Convert idiosyncratic variance to a diagonal matrix (Σ_ε)\n",
    "Sigma_e = np.diag(sigma['idio_risk'].values)  # Shape (N, N)\n",
    "\n",
    "# Number of assets\n",
    "N = B.shape[0]\n",
    "\n",
    "# Number of portfolios to generate\n",
    "n_portfolios = 1000\n",
    "\n",
    "# Store results\n",
    "portfolio_returns = []\n",
    "portfolio_volatilities = []\n",
    "portfolio_weights = []\n",
    "\n",
    "# Generate random portfolios\n",
    "for _ in range(n_portfolios):\n",
    "    # Generate random weights\n",
    "    weights = np.random.random(N)\n",
    "    weights /= np.sum(weights)  # Normalize to sum to 1\n",
    "\n",
    "    # Portfolio expected return (w^T * E[R])\n",
    "    expected_return = np.dot(weights, expected_returns)\n",
    "\n",
    "    # Portfolio variance using APT formula: σ_p^2 = w^T (B Σ_F B^T + Σ_ε) w\n",
    "    systematic_risk = np.dot(B, np.dot(Sigma_F, B.T))  # B Σ_F B^T\n",
    "    total_risk_matrix = systematic_risk + Sigma_e  # B Σ_F B^T + Σ_ε\n",
    "    portfolio_variance = np.dot(weights.T, np.dot(total_risk_matrix, weights))\n",
    "    portfolio_volatility = np.sqrt(portfolio_variance)  # σ_p\n",
    "\n",
    "    # Store results\n",
    "    portfolio_returns.append(expected_return)\n",
    "    portfolio_volatilities.append(portfolio_volatility)\n",
    "    portfolio_weights.append(weights)\n",
    "\n",
    "# Convert to DataFrame\n",
    "portfolios_df = pd.DataFrame({\n",
    "    'Expected Return': portfolio_returns,\n",
    "    'Volatility': portfolio_volatilities\n",
    "})\n",
    "\n",
    "# Define function to calculate portfolio volatility given weights\n",
    "def portfolio_volatility(weights, B, Sigma_F, Sigma_e):\n",
    "    systematic_risk = np.dot(B, np.dot(Sigma_F, B.T))  # B Σ_F B^T\n",
    "    total_risk_matrix = systematic_risk + Sigma_e  # B Σ_F B^T + Σ_ε\n",
    "    return np.sqrt(np.dot(weights.T, np.dot(total_risk_matrix, weights)))\n",
    "\n",
    "# Define function to calculate portfolio return given weights\n",
    "def portfolio_return(weights, expected_returns):\n",
    "    return np.dot(weights, expected_returns)\n",
    "\n",
    "# Find the efficient frontier by optimizing for minimum volatility at each return level\n",
    "target_returns = np.linspace(min(portfolio_returns), max(portfolio_returns), 100)\n",
    "efficient_volatilities = []\n",
    "\n",
    "# Constraints: weights sum to 1\n",
    "constraints = ({'type': 'eq', 'fun': lambda w: np.sum(w) - 1})\n",
    "bounds = tuple((0, 1) for _ in range(N))  # No short-selling\n",
    "\n",
    "for target in target_returns:\n",
    "    # Minimize volatility for given target return\n",
    "    result = minimize(portfolio_volatility, N * [1. / N], args=(B, Sigma_F, Sigma_e),\n",
    "                      method='SLSQP', bounds=bounds, constraints=[constraints, \n",
    "                      {'type': 'eq', 'fun': lambda w: portfolio_return(w, expected_returns) - target}])\n",
    "    \n",
    "    if result.success:\n",
    "        efficient_volatilities.append(result.fun)\n",
    "    else:\n",
    "        efficient_volatilities.append(np.nan)  # If optimization fails, assign NaN\n",
    "\n",
    "# Plot Efficient Frontier with exact curve\n",
    "plt.figure(figsize=(10, 6))\n",
    "plt.plot(efficient_volatilities, target_returns, color='red', linewidth=2, label=\"Efficient Frontier\")\n",
    "\n",
    "plt.xlabel('Volatility (Risk)')\n",
    "plt.ylabel('Expected Return')\n",
    "plt.title('Efficient Frontier (APT-Based Portfolios)')\n",
    "plt.colorbar(label='Sharpe Ratio')\n",
    "plt.legend()\n",
    "plt.grid(True)\n",
    "plt.show()"
   ],
   "metadata": {
    "collapsed": false
   },
   "id": "e609d41439343f5f",
   "execution_count": null
  },
  {
   "cell_type": "code",
   "outputs": [],
   "source": [],
   "metadata": {
    "collapsed": false
   },
   "id": "e50db919d36c5db3"
  }
 ],
 "metadata": {
  "kernelspec": {
   "display_name": "Python 3",
   "language": "python",
   "name": "python3"
  },
  "language_info": {
   "codemirror_mode": {
    "name": "ipython",
    "version": 2
   },
   "file_extension": ".py",
   "mimetype": "text/x-python",
   "name": "python",
   "nbconvert_exporter": "python",
   "pygments_lexer": "ipython2",
   "version": "2.7.6"
  }
 },
 "nbformat": 4,
 "nbformat_minor": 5
}
