{
 "cells": [
  {
   "cell_type": "code",
   "execution_count": 3,
   "id": "initial_id",
   "metadata": {
    "ExecuteTime": {
     "end_time": "2025-03-24T21:12:49.473372Z",
     "start_time": "2025-03-24T21:12:46.452315Z"
    },
    "collapsed": true
   },
   "outputs": [],
   "source": [
    "import numpy as np\n",
    "import pandas as pd\n",
    "import matplotlib.pyplot as plt\n",
    "import statsmodels.api as sm\n",
    "from scipy.optimize import minimize\n",
    "import os\n",
    "import warnings\n",
    "\n",
    "warnings.simplefilter(action='ignore', category=FutureWarning)\n",
    "sp500_constituents_directory = '../data/sp500'\n",
    "sample_assets = ['AAPL', 'GE', 'IBM', 'KO', 'MSFT']"
   ]
  },
  {
   "cell_type": "code",
   "execution_count": 4,
   "id": "8ad7c172e721f6dd",
   "metadata": {
    "ExecuteTime": {
     "end_time": "2025-03-24T21:12:49.506013Z",
     "start_time": "2025-03-24T21:12:49.474444Z"
    },
    "collapsed": false
   },
   "outputs": [
    {
     "data": {
      "text/html": [
       "<div>\n",
       "<style scoped>\n",
       "    .dataframe tbody tr th:only-of-type {\n",
       "        vertical-align: middle;\n",
       "    }\n",
       "\n",
       "    .dataframe tbody tr th {\n",
       "        vertical-align: top;\n",
       "    }\n",
       "\n",
       "    .dataframe thead th {\n",
       "        text-align: right;\n",
       "    }\n",
       "</style>\n",
       "<table border=\"1\" class=\"dataframe\">\n",
       "  <thead>\n",
       "    <tr style=\"text-align: right;\">\n",
       "      <th></th>\n",
       "      <th>date</th>\n",
       "      <th>Mkt-RF</th>\n",
       "      <th>SMB</th>\n",
       "      <th>HML</th>\n",
       "      <th>RF</th>\n",
       "    </tr>\n",
       "  </thead>\n",
       "  <tbody>\n",
       "    <tr>\n",
       "      <th>0</th>\n",
       "      <td>1926-07-01</td>\n",
       "      <td>0.0010</td>\n",
       "      <td>-0.0025</td>\n",
       "      <td>-0.0027</td>\n",
       "      <td>0.00009</td>\n",
       "    </tr>\n",
       "    <tr>\n",
       "      <th>1</th>\n",
       "      <td>1926-07-02</td>\n",
       "      <td>0.0045</td>\n",
       "      <td>-0.0033</td>\n",
       "      <td>-0.0006</td>\n",
       "      <td>0.00009</td>\n",
       "    </tr>\n",
       "    <tr>\n",
       "      <th>2</th>\n",
       "      <td>1926-07-06</td>\n",
       "      <td>0.0017</td>\n",
       "      <td>0.0030</td>\n",
       "      <td>-0.0039</td>\n",
       "      <td>0.00009</td>\n",
       "    </tr>\n",
       "    <tr>\n",
       "      <th>3</th>\n",
       "      <td>1926-07-07</td>\n",
       "      <td>0.0009</td>\n",
       "      <td>-0.0058</td>\n",
       "      <td>0.0002</td>\n",
       "      <td>0.00009</td>\n",
       "    </tr>\n",
       "    <tr>\n",
       "      <th>4</th>\n",
       "      <td>1926-07-08</td>\n",
       "      <td>0.0021</td>\n",
       "      <td>-0.0038</td>\n",
       "      <td>0.0019</td>\n",
       "      <td>0.00009</td>\n",
       "    </tr>\n",
       "  </tbody>\n",
       "</table>\n",
       "</div>"
      ],
      "text/plain": [
       "        date  Mkt-RF     SMB     HML       RF\n",
       "0 1926-07-01  0.0010 -0.0025 -0.0027  0.00009\n",
       "1 1926-07-02  0.0045 -0.0033 -0.0006  0.00009\n",
       "2 1926-07-06  0.0017  0.0030 -0.0039  0.00009\n",
       "3 1926-07-07  0.0009 -0.0058  0.0002  0.00009\n",
       "4 1926-07-08  0.0021 -0.0038  0.0019  0.00009"
      ]
     },
     "execution_count": 4,
     "metadata": {},
     "output_type": "execute_result"
    }
   ],
   "source": [
    "ff3 = pd.read_csv('../data/F-F_Research_Data_Factors_daily.CSV')\n",
    "ff3['date'] = pd.to_datetime(ff3['date'], format='%Y%m%d')\n",
    "ff3['RF'] = ff3['RF'] / 100\n",
    "ff3['Mkt-RF'] = ff3['Mkt-RF'] / 100\n",
    "ff3['SMB'] = ff3['SMB'] / 100\n",
    "ff3['HML'] = ff3['HML'] / 100\n",
    "ff3.head()"
   ]
  },
  {
   "cell_type": "markdown",
   "id": "aef451c65d1fc171",
   "metadata": {
    "collapsed": false
   },
   "source": []
  },
  {
   "cell_type": "code",
   "execution_count": 5,
   "id": "826c4b64bd057e4e",
   "metadata": {
    "ExecuteTime": {
     "end_time": "2025-03-24T21:13:27.912764Z",
     "start_time": "2025-03-24T21:12:49.507164Z"
    },
    "collapsed": false
   },
   "outputs": [
    {
     "name": "stdout",
     "output_type": "stream",
     "text": [
      "KR.csv\n"
     ]
    }
   ],
   "source": [
    "df = pd.DataFrame()\n",
    "for asset in os.listdir(sp500_constituents_directory):\n",
    "    asset_df = pd.read_csv(f'{sp500_constituents_directory}/{asset}', index_col=0)\n",
    "    asset_df['date'] = pd.to_datetime(asset_df['date'])\n",
    "    if (asset_df['close'] == 0).sum() > 0:\n",
    "        print(asset)\n",
    "        asset_df['close'].replace(0, np.nan, inplace=True)\n",
    "        asset_df['close'] = asset_df['close'].ffill()\n",
    "    asset_df['return'] = asset_df['close'].pct_change()\n",
    "    asset_df.dropna(subset=['return'], inplace=True)\n",
    "    asset_df = asset_df[['date', 'symbol', 'series_id', 'close', 'return']]\n",
    "    asset_df = pd.merge(asset_df, ff3[['date', 'RF', 'Mkt-RF', 'SMB', 'HML']], on='date')\n",
    "    if len(df) == 0:\n",
    "        df = asset_df\n",
    "    else:\n",
    "        # concat\n",
    "        df = pd.concat([df, asset_df])\n",
    "df['return'] = df['return'] - df['RF']\n",
    "df = df[df['date'] > '2015-01-01']"
   ]
  },
  {
   "cell_type": "code",
   "execution_count": 6,
   "id": "485ff49df74aab25",
   "metadata": {
    "ExecuteTime": {
     "end_time": "2025-03-24T21:13:27.955342Z",
     "start_time": "2025-03-24T21:13:27.915379Z"
    },
    "collapsed": false
   },
   "outputs": [
    {
     "data": {
      "text/plain": [
       "count    1.230070e+06\n",
       "mean     4.966915e-04\n",
       "std      2.099399e-02\n",
       "min     -8.206364e-01\n",
       "25%     -8.410386e-03\n",
       "50%      6.404895e-04\n",
       "75%      9.546726e-03\n",
       "max      4.803086e+00\n",
       "Name: return, dtype: float64"
      ]
     },
     "execution_count": 6,
     "metadata": {},
     "output_type": "execute_result"
    }
   ],
   "source": [
    "df['return'].describe()"
   ]
  },
  {
   "cell_type": "code",
   "execution_count": 7,
   "id": "b5ef9b0a93fa7e07",
   "metadata": {
    "ExecuteTime": {
     "end_time": "2025-03-24T21:13:28.031381Z",
     "start_time": "2025-03-24T21:13:27.956144Z"
    },
    "collapsed": false
   },
   "outputs": [
    {
     "name": "stdout",
     "output_type": "stream",
     "text": [
      "1230070\n",
      "1212112\n"
     ]
    }
   ],
   "source": [
    "# Print the 10 rows with the highest df['return']\n",
    "df['return_z_score'] = (df['return'] - df['return'].mean()) / df['return'].std()\n",
    "print(len(df))\n",
    "df = df[(df['return_z_score'] <= 3) & (df['return_z_score'] >= -3)]\n",
    "print(len(df))"
   ]
  },
  {
   "cell_type": "code",
   "execution_count": 8,
   "id": "5e1950ef8e763ac1",
   "metadata": {
    "ExecuteTime": {
     "end_time": "2025-03-24T21:13:28.629617Z",
     "start_time": "2025-03-24T21:13:28.032441Z"
    },
    "collapsed": false
   },
   "outputs": [],
   "source": [
    "factors = ['Mkt-RF', 'SMB', 'HML']  # List of factor returns\n",
    "factor_betas = []\n",
    "\n",
    "for asset, asset_data in df.groupby('symbol'):\n",
    "    X = asset_data[factors]  # Use multiple factors\n",
    "    X = sm.add_constant(X)  # Add intercept\n",
    "    y = asset_data['return']\n",
    "    \n",
    "    model = sm.OLS(y, X)\n",
    "    results = model.fit()\n",
    "    \n",
    "    # Store betas for each factor along with the expected return\n",
    "    beta_values = {f'{factor}_loading': results.params[factor] for factor in factors}\n",
    "    beta_values['symbol'] = asset\n",
    "    \n",
    "    factor_betas.append(beta_values)"
   ]
  },
  {
   "cell_type": "code",
   "execution_count": 9,
   "id": "c8972a9a9f5a596c",
   "metadata": {
    "ExecuteTime": {
     "end_time": "2025-03-24T21:13:28.635877Z",
     "start_time": "2025-03-24T21:13:28.630414Z"
    },
    "collapsed": false
   },
   "outputs": [
    {
     "data": {
      "text/html": [
       "<div>\n",
       "<style scoped>\n",
       "    .dataframe tbody tr th:only-of-type {\n",
       "        vertical-align: middle;\n",
       "    }\n",
       "\n",
       "    .dataframe tbody tr th {\n",
       "        vertical-align: top;\n",
       "    }\n",
       "\n",
       "    .dataframe thead th {\n",
       "        text-align: right;\n",
       "    }\n",
       "</style>\n",
       "<table border=\"1\" class=\"dataframe\">\n",
       "  <thead>\n",
       "    <tr style=\"text-align: right;\">\n",
       "      <th></th>\n",
       "      <th>Mkt-RF_loading</th>\n",
       "      <th>SMB_loading</th>\n",
       "      <th>HML_loading</th>\n",
       "      <th>symbol</th>\n",
       "    </tr>\n",
       "  </thead>\n",
       "  <tbody>\n",
       "    <tr>\n",
       "      <th>0</th>\n",
       "      <td>0.982827</td>\n",
       "      <td>0.077516</td>\n",
       "      <td>-0.159084</td>\n",
       "      <td>A</td>\n",
       "    </tr>\n",
       "    <tr>\n",
       "      <th>1</th>\n",
       "      <td>1.113392</td>\n",
       "      <td>-0.250614</td>\n",
       "      <td>-0.378536</td>\n",
       "      <td>AAPL</td>\n",
       "    </tr>\n",
       "    <tr>\n",
       "      <th>2</th>\n",
       "      <td>0.596637</td>\n",
       "      <td>-0.207678</td>\n",
       "      <td>0.043559</td>\n",
       "      <td>ABBV</td>\n",
       "    </tr>\n",
       "    <tr>\n",
       "      <th>3</th>\n",
       "      <td>1.152474</td>\n",
       "      <td>0.520908</td>\n",
       "      <td>-0.294504</td>\n",
       "      <td>ABNB</td>\n",
       "    </tr>\n",
       "    <tr>\n",
       "      <th>4</th>\n",
       "      <td>0.785958</td>\n",
       "      <td>-0.263488</td>\n",
       "      <td>-0.181972</td>\n",
       "      <td>ABT</td>\n",
       "    </tr>\n",
       "  </tbody>\n",
       "</table>\n",
       "</div>"
      ],
      "text/plain": [
       "   Mkt-RF_loading  SMB_loading  HML_loading symbol\n",
       "0        0.982827     0.077516    -0.159084      A\n",
       "1        1.113392    -0.250614    -0.378536   AAPL\n",
       "2        0.596637    -0.207678     0.043559   ABBV\n",
       "3        1.152474     0.520908    -0.294504   ABNB\n",
       "4        0.785958    -0.263488    -0.181972    ABT"
      ]
     },
     "execution_count": 9,
     "metadata": {},
     "output_type": "execute_result"
    }
   ],
   "source": [
    "factor_betas = pd.DataFrame(factor_betas)\n",
    "factor_betas.head()"
   ]
  },
  {
   "cell_type": "code",
   "execution_count": 10,
   "id": "6e27a852",
   "metadata": {},
   "outputs": [],
   "source": [
    "# Sample assets factor sensitivities (Save as .tex)\n",
    "factor_betas[factor_betas['symbol'].isin(sample_assets)].to_latex(\n",
    "    '../figs/factor_betas.tex',\n",
    "    index=False,\n",
    "    float_format=\"%.3f\",\n",
    "    column_format='l' + 'c' * len(sample_assets),\n",
    "    escape=False\n",
    ")"
   ]
  },
  {
   "cell_type": "code",
   "execution_count": 11,
   "id": "b704fa0d139bc54b",
   "metadata": {
    "ExecuteTime": {
     "end_time": "2025-03-24T21:13:28.765890Z",
     "start_time": "2025-03-24T21:13:28.636853Z"
    },
    "collapsed": false
   },
   "outputs": [
    {
     "data": {
      "text/html": [
       "<div>\n",
       "<style scoped>\n",
       "    .dataframe tbody tr th:only-of-type {\n",
       "        vertical-align: middle;\n",
       "    }\n",
       "\n",
       "    .dataframe tbody tr th {\n",
       "        vertical-align: top;\n",
       "    }\n",
       "\n",
       "    .dataframe thead th {\n",
       "        text-align: right;\n",
       "    }\n",
       "</style>\n",
       "<table border=\"1\" class=\"dataframe\">\n",
       "  <thead>\n",
       "    <tr style=\"text-align: right;\">\n",
       "      <th></th>\n",
       "      <th>date</th>\n",
       "      <th>symbol</th>\n",
       "      <th>series_id</th>\n",
       "      <th>close</th>\n",
       "      <th>return</th>\n",
       "      <th>RF</th>\n",
       "      <th>Mkt-RF</th>\n",
       "      <th>SMB</th>\n",
       "      <th>HML</th>\n",
       "      <th>return_z_score</th>\n",
       "      <th>Mkt-RF_loading</th>\n",
       "      <th>SMB_loading</th>\n",
       "      <th>HML_loading</th>\n",
       "    </tr>\n",
       "  </thead>\n",
       "  <tbody>\n",
       "    <tr>\n",
       "      <th>0</th>\n",
       "      <td>2015-01-02</td>\n",
       "      <td>CSCO</td>\n",
       "      <td>58375</td>\n",
       "      <td>27.61</td>\n",
       "      <td>-0.007549</td>\n",
       "      <td>0.0</td>\n",
       "      <td>-0.0012</td>\n",
       "      <td>-0.0061</td>\n",
       "      <td>0.0008</td>\n",
       "      <td>-0.383215</td>\n",
       "      <td>0.934331</td>\n",
       "      <td>-0.223223</td>\n",
       "      <td>0.044192</td>\n",
       "    </tr>\n",
       "    <tr>\n",
       "      <th>1</th>\n",
       "      <td>2015-01-05</td>\n",
       "      <td>CSCO</td>\n",
       "      <td>58375</td>\n",
       "      <td>27.06</td>\n",
       "      <td>-0.019920</td>\n",
       "      <td>0.0</td>\n",
       "      <td>-0.0184</td>\n",
       "      <td>0.0033</td>\n",
       "      <td>-0.0068</td>\n",
       "      <td>-0.972517</td>\n",
       "      <td>0.934331</td>\n",
       "      <td>-0.223223</td>\n",
       "      <td>0.044192</td>\n",
       "    </tr>\n",
       "    <tr>\n",
       "      <th>2</th>\n",
       "      <td>2015-01-06</td>\n",
       "      <td>CSCO</td>\n",
       "      <td>58375</td>\n",
       "      <td>27.05</td>\n",
       "      <td>-0.000370</td>\n",
       "      <td>0.0</td>\n",
       "      <td>-0.0104</td>\n",
       "      <td>-0.0078</td>\n",
       "      <td>-0.0031</td>\n",
       "      <td>-0.041261</td>\n",
       "      <td>0.934331</td>\n",
       "      <td>-0.223223</td>\n",
       "      <td>0.044192</td>\n",
       "    </tr>\n",
       "    <tr>\n",
       "      <th>3</th>\n",
       "      <td>2015-01-07</td>\n",
       "      <td>CSCO</td>\n",
       "      <td>58375</td>\n",
       "      <td>27.30</td>\n",
       "      <td>0.009242</td>\n",
       "      <td>0.0</td>\n",
       "      <td>0.0119</td>\n",
       "      <td>0.0020</td>\n",
       "      <td>-0.0066</td>\n",
       "      <td>0.416569</td>\n",
       "      <td>0.934331</td>\n",
       "      <td>-0.223223</td>\n",
       "      <td>0.044192</td>\n",
       "    </tr>\n",
       "    <tr>\n",
       "      <th>4</th>\n",
       "      <td>2015-01-08</td>\n",
       "      <td>CSCO</td>\n",
       "      <td>58375</td>\n",
       "      <td>27.51</td>\n",
       "      <td>0.007692</td>\n",
       "      <td>0.0</td>\n",
       "      <td>0.0181</td>\n",
       "      <td>-0.0012</td>\n",
       "      <td>-0.0028</td>\n",
       "      <td>0.342747</td>\n",
       "      <td>0.934331</td>\n",
       "      <td>-0.223223</td>\n",
       "      <td>0.044192</td>\n",
       "    </tr>\n",
       "  </tbody>\n",
       "</table>\n",
       "</div>"
      ],
      "text/plain": [
       "        date symbol  series_id  close    return   RF  Mkt-RF     SMB     HML  \\\n",
       "0 2015-01-02   CSCO      58375  27.61 -0.007549  0.0 -0.0012 -0.0061  0.0008   \n",
       "1 2015-01-05   CSCO      58375  27.06 -0.019920  0.0 -0.0184  0.0033 -0.0068   \n",
       "2 2015-01-06   CSCO      58375  27.05 -0.000370  0.0 -0.0104 -0.0078 -0.0031   \n",
       "3 2015-01-07   CSCO      58375  27.30  0.009242  0.0  0.0119  0.0020 -0.0066   \n",
       "4 2015-01-08   CSCO      58375  27.51  0.007692  0.0  0.0181 -0.0012 -0.0028   \n",
       "\n",
       "   return_z_score  Mkt-RF_loading  SMB_loading  HML_loading  \n",
       "0       -0.383215        0.934331    -0.223223     0.044192  \n",
       "1       -0.972517        0.934331    -0.223223     0.044192  \n",
       "2       -0.041261        0.934331    -0.223223     0.044192  \n",
       "3        0.416569        0.934331    -0.223223     0.044192  \n",
       "4        0.342747        0.934331    -0.223223     0.044192  "
      ]
     },
     "execution_count": 11,
     "metadata": {},
     "output_type": "execute_result"
    }
   ],
   "source": [
    "df = pd.merge(df, factor_betas, on='symbol')\n",
    "df.head()"
   ]
  },
  {
   "cell_type": "code",
   "execution_count": 12,
   "id": "b8aa7466d09921d0",
   "metadata": {
    "ExecuteTime": {
     "end_time": "2025-03-24T21:13:30.929475Z",
     "start_time": "2025-03-24T21:13:28.766698Z"
    },
    "collapsed": false
   },
   "outputs": [],
   "source": [
    "# Dictionary to store the risk premiums (gamma values) for each time period\n",
    "factor_gammas = {}\n",
    "factor_loadings = [f\"{factor}_loading\" for factor in factors]\n",
    "# Grouping the DataFrame by reporting periods (time periods)\n",
    "all_periods = df['date'].nunique()\n",
    "for period, period_group in df.groupby('date'):\n",
    "\n",
    "    # The dependent variable (returns for the current time period)\n",
    "    y = period_group['return']\n",
    "    X = period_group[factor_loadings]\n",
    "    X = sm.add_constant(X)\n",
    "\n",
    "    # Fit the Fama-Macbeth regression for this period\n",
    "    model = sm.OLS(y, X).fit()\n",
    "\n",
    "    # Store the risk premiums (gamma coefficients) for this period\n",
    "    params = model.params.to_dict()\n",
    "    #rename to f'{factor}_premium'\n",
    "    factor_gammas[period] = {f'{factor}_premium': params[factor] for factor in factor_loadings}"
   ]
  },
  {
   "cell_type": "code",
   "execution_count": 13,
   "id": "48255b6102d4d261",
   "metadata": {
    "ExecuteTime": {
     "end_time": "2025-03-24T21:13:31.020038Z",
     "start_time": "2025-03-24T21:13:31.019961Z"
    },
    "collapsed": false
   },
   "outputs": [
    {
     "data": {
      "text/html": [
       "<div>\n",
       "<style scoped>\n",
       "    .dataframe tbody tr th:only-of-type {\n",
       "        vertical-align: middle;\n",
       "    }\n",
       "\n",
       "    .dataframe tbody tr th {\n",
       "        vertical-align: top;\n",
       "    }\n",
       "\n",
       "    .dataframe thead th {\n",
       "        text-align: right;\n",
       "    }\n",
       "</style>\n",
       "<table border=\"1\" class=\"dataframe\">\n",
       "  <thead>\n",
       "    <tr style=\"text-align: right;\">\n",
       "      <th></th>\n",
       "      <th>Mkt-RF_loading_premium</th>\n",
       "      <th>SMB_loading_premium</th>\n",
       "      <th>HML_loading_premium</th>\n",
       "    </tr>\n",
       "  </thead>\n",
       "  <tbody>\n",
       "    <tr>\n",
       "      <th>2015-01-02</th>\n",
       "      <td>-0.004590</td>\n",
       "      <td>-0.002769</td>\n",
       "      <td>0.003082</td>\n",
       "    </tr>\n",
       "    <tr>\n",
       "      <th>2015-01-05</th>\n",
       "      <td>-0.023103</td>\n",
       "      <td>0.003397</td>\n",
       "      <td>-0.014870</td>\n",
       "    </tr>\n",
       "    <tr>\n",
       "      <th>2015-01-06</th>\n",
       "      <td>-0.026685</td>\n",
       "      <td>-0.000252</td>\n",
       "      <td>-0.001714</td>\n",
       "    </tr>\n",
       "    <tr>\n",
       "      <th>2015-01-07</th>\n",
       "      <td>-0.012615</td>\n",
       "      <td>0.009980</td>\n",
       "      <td>-0.005287</td>\n",
       "    </tr>\n",
       "    <tr>\n",
       "      <th>2015-01-08</th>\n",
       "      <td>0.013017</td>\n",
       "      <td>0.002839</td>\n",
       "      <td>-0.000968</td>\n",
       "    </tr>\n",
       "  </tbody>\n",
       "</table>\n",
       "</div>"
      ],
      "text/plain": [
       "            Mkt-RF_loading_premium  SMB_loading_premium  HML_loading_premium\n",
       "2015-01-02               -0.004590            -0.002769             0.003082\n",
       "2015-01-05               -0.023103             0.003397            -0.014870\n",
       "2015-01-06               -0.026685            -0.000252            -0.001714\n",
       "2015-01-07               -0.012615             0.009980            -0.005287\n",
       "2015-01-08                0.013017             0.002839            -0.000968"
      ]
     },
     "execution_count": 13,
     "metadata": {},
     "output_type": "execute_result"
    }
   ],
   "source": [
    "risk_premiums = [f'{factor}_premium' for factor in factor_loadings]\n",
    "rp_df = pd.DataFrame.from_dict(factor_gammas, orient='index')\n",
    "expected_factor_returns = rp_df[risk_premiums].mean().to_dict()\n",
    "expected_factor_cov_matrix = rp_df[risk_premiums].cov()\n",
    "rp_df.head()"
   ]
  },
  {
   "cell_type": "code",
   "execution_count": 14,
   "id": "277514ae",
   "metadata": {},
   "outputs": [
    {
     "data": {
      "text/html": [
       "<div>\n",
       "<style scoped>\n",
       "    .dataframe tbody tr th:only-of-type {\n",
       "        vertical-align: middle;\n",
       "    }\n",
       "\n",
       "    .dataframe tbody tr th {\n",
       "        vertical-align: top;\n",
       "    }\n",
       "\n",
       "    .dataframe thead th {\n",
       "        text-align: right;\n",
       "    }\n",
       "</style>\n",
       "<table border=\"1\" class=\"dataframe\">\n",
       "  <thead>\n",
       "    <tr style=\"text-align: right;\">\n",
       "      <th></th>\n",
       "      <th>Factors</th>\n",
       "      <th>Expected Factor Returns</th>\n",
       "    </tr>\n",
       "  </thead>\n",
       "  <tbody>\n",
       "    <tr>\n",
       "      <th>0</th>\n",
       "      <td>Mkt-RF_loading_premium</td>\n",
       "      <td>0.161182</td>\n",
       "    </tr>\n",
       "    <tr>\n",
       "      <th>1</th>\n",
       "      <td>SMB_loading_premium</td>\n",
       "      <td>-0.045322</td>\n",
       "    </tr>\n",
       "    <tr>\n",
       "      <th>2</th>\n",
       "      <td>HML_loading_premium</td>\n",
       "      <td>-0.096247</td>\n",
       "    </tr>\n",
       "  </tbody>\n",
       "</table>\n",
       "</div>"
      ],
      "text/plain": [
       "                  Factors  Expected Factor Returns\n",
       "0  Mkt-RF_loading_premium                 0.161182\n",
       "1     SMB_loading_premium                -0.045322\n",
       "2     HML_loading_premium                -0.096247"
      ]
     },
     "execution_count": 14,
     "metadata": {},
     "output_type": "execute_result"
    }
   ],
   "source": [
    "expected_factor_returns_df = pd.DataFrame.from_dict(expected_factor_returns, orient='index')\n",
    "expected_factor_returns_df.columns = ['Expected Factor Returns']\n",
    "expected_factor_returns_df['Expected Factor Returns'] = expected_factor_returns_df['Expected Factor Returns'] * 252\n",
    "expected_factor_returns_df.index.name = 'Factors'\n",
    "expected_factor_returns_df.reset_index(inplace=True)\n",
    "expected_factor_returns_df.to_latex('../figs/expected_factor_returns.tex', index=False, float_format=\"%.4f\")\n",
    "expected_factor_returns_df.head()"
   ]
  },
  {
   "cell_type": "code",
   "execution_count": 15,
   "id": "a0a69b57c7b1be3d",
   "metadata": {
    "ExecuteTime": {
     "end_time": "2025-03-24T21:13:31.021278Z",
     "start_time": "2025-03-24T21:13:31.020758Z"
    },
    "collapsed": false
   },
   "outputs": [
    {
     "data": {
      "text/plain": [
       "<Figure size 1000x600 with 0 Axes>"
      ]
     },
     "metadata": {},
     "output_type": "display_data"
    },
    {
     "data": {
      "image/png": "[encoded data removed]",
      "text/plain": [
       "<Figure size 640x480 with 1 Axes>"
      ]
     },
     "metadata": {},
     "output_type": "display_data"
    }
   ],
   "source": [
    "plt.figure(figsize=(10, 6))\n",
    "rp_df[risk_premiums].cumsum().plot(grid=True)\n",
    "plt.title('Cumulative Returns of Fama-French Factors')\n",
    "plt.xlabel('Date')\n",
    "plt.ylabel('Cumulative Return')\n",
    "plt.legend(['Market', 'Size (SMB)', 'Value (HML)'])\n",
    "\n",
    "# Save the plot\n",
    "plt.savefig('../figs/factor_returns.png', dpi=300)\n",
    "\n",
    "plt.show()"
   ]
  },
  {
   "cell_type": "code",
   "execution_count": 16,
   "id": "addee8152b5c0390",
   "metadata": {
    "collapsed": false
   },
   "outputs": [],
   "source": [
    "#Annualized expected factor returns\n",
    "expected_returns = factor_betas.copy()\n",
    "for factor_rp in risk_premiums:\n",
    "    expected_returns[factor_rp] = expected_factor_returns[factor_rp] * 252"
   ]
  },
  {
   "cell_type": "code",
   "execution_count": 17,
   "id": "114ab74c",
   "metadata": {},
   "outputs": [],
   "source": [
    "expected_returns['expected_return'] = expected_returns['Mkt-RF_loading'] * expected_returns['Mkt-RF_loading_premium'] + \\\n",
    "    expected_returns['SMB_loading'] * expected_returns['SMB_loading_premium'] + \\\n",
    "    expected_returns['HML_loading'] * expected_returns['HML_loading_premium']"
   ]
  },
  {
   "cell_type": "code",
   "execution_count": 20,
   "id": "ab1c5ddf",
   "metadata": {},
   "outputs": [
    {
     "data": {
      "text/html": [
       "<div>\n",
       "<style scoped>\n",
       "    .dataframe tbody tr th:only-of-type {\n",
       "        vertical-align: middle;\n",
       "    }\n",
       "\n",
       "    .dataframe tbody tr th {\n",
       "        vertical-align: top;\n",
       "    }\n",
       "\n",
       "    .dataframe thead th {\n",
       "        text-align: right;\n",
       "    }\n",
       "</style>\n",
       "<table border=\"1\" class=\"dataframe\">\n",
       "  <thead>\n",
       "    <tr style=\"text-align: right;\">\n",
       "      <th></th>\n",
       "      <th>symbol</th>\n",
       "      <th>expected_return</th>\n",
       "      <th>Mkt-RF_loading</th>\n",
       "      <th>Mkt-RF_loading_premium</th>\n",
       "      <th>SMB_loading</th>\n",
       "      <th>SMB_loading_premium</th>\n",
       "      <th>HML_loading</th>\n",
       "      <th>HML_loading_premium</th>\n",
       "    </tr>\n",
       "  </thead>\n",
       "  <tbody>\n",
       "    <tr>\n",
       "      <th>0</th>\n",
       "      <td>A</td>\n",
       "      <td>0.170212</td>\n",
       "      <td>0.982827</td>\n",
       "      <td>0.161182</td>\n",
       "      <td>0.077516</td>\n",
       "      <td>-0.045322</td>\n",
       "      <td>-0.159084</td>\n",
       "      <td>-0.096247</td>\n",
       "    </tr>\n",
       "    <tr>\n",
       "      <th>1</th>\n",
       "      <td>AAPL</td>\n",
       "      <td>0.227249</td>\n",
       "      <td>1.113392</td>\n",
       "      <td>0.161182</td>\n",
       "      <td>-0.250614</td>\n",
       "      <td>-0.045322</td>\n",
       "      <td>-0.378536</td>\n",
       "      <td>-0.096247</td>\n",
       "    </tr>\n",
       "    <tr>\n",
       "      <th>2</th>\n",
       "      <td>ABBV</td>\n",
       "      <td>0.101387</td>\n",
       "      <td>0.596637</td>\n",
       "      <td>0.161182</td>\n",
       "      <td>-0.207678</td>\n",
       "      <td>-0.045322</td>\n",
       "      <td>0.043559</td>\n",
       "      <td>-0.096247</td>\n",
       "    </tr>\n",
       "    <tr>\n",
       "      <th>3</th>\n",
       "      <td>ABNB</td>\n",
       "      <td>0.190494</td>\n",
       "      <td>1.152474</td>\n",
       "      <td>0.161182</td>\n",
       "      <td>0.520908</td>\n",
       "      <td>-0.045322</td>\n",
       "      <td>-0.294504</td>\n",
       "      <td>-0.096247</td>\n",
       "    </tr>\n",
       "    <tr>\n",
       "      <th>4</th>\n",
       "      <td>ABT</td>\n",
       "      <td>0.156138</td>\n",
       "      <td>0.785958</td>\n",
       "      <td>0.161182</td>\n",
       "      <td>-0.263488</td>\n",
       "      <td>-0.045322</td>\n",
       "      <td>-0.181972</td>\n",
       "      <td>-0.096247</td>\n",
       "    </tr>\n",
       "  </tbody>\n",
       "</table>\n",
       "</div>"
      ],
      "text/plain": [
       "  symbol  expected_return  Mkt-RF_loading  Mkt-RF_loading_premium  \\\n",
       "0      A         0.170212        0.982827                0.161182   \n",
       "1   AAPL         0.227249        1.113392                0.161182   \n",
       "2   ABBV         0.101387        0.596637                0.161182   \n",
       "3   ABNB         0.190494        1.152474                0.161182   \n",
       "4    ABT         0.156138        0.785958                0.161182   \n",
       "\n",
       "   SMB_loading  SMB_loading_premium  HML_loading  HML_loading_premium  \n",
       "0     0.077516            -0.045322    -0.159084            -0.096247  \n",
       "1    -0.250614            -0.045322    -0.378536            -0.096247  \n",
       "2    -0.207678            -0.045322     0.043559            -0.096247  \n",
       "3     0.520908            -0.045322    -0.294504            -0.096247  \n",
       "4    -0.263488            -0.045322    -0.181972            -0.096247  "
      ]
     },
     "execution_count": 20,
     "metadata": {},
     "output_type": "execute_result"
    }
   ],
   "source": [
    "# expected_returns['expected_return'] = expected_returns['expected_return'] * 252\n",
    "# save symbol, expected return to a .tex \n",
    "expected_returns[['symbol', 'expected_return']].head().to_latex('../figs/apt_expected_returns.tex', float_format=\"%.2f\", index=False)\n",
    "expected_returns[['symbol', 'expected_return', 'Mkt-RF_loading', 'Mkt-RF_loading_premium',\n",
    "                  'SMB_loading', 'SMB_loading_premium', \n",
    "                  'HML_loading', 'HML_loading_premium']].head()"
   ]
  },
  {
   "cell_type": "code",
   "execution_count": 21,
   "id": "1106b481",
   "metadata": {},
   "outputs": [
    {
     "data": {
      "text/html": [
       "<div>\n",
       "<style scoped>\n",
       "    .dataframe tbody tr th:only-of-type {\n",
       "        vertical-align: middle;\n",
       "    }\n",
       "\n",
       "    .dataframe tbody tr th {\n",
       "        vertical-align: top;\n",
       "    }\n",
       "\n",
       "    .dataframe thead th {\n",
       "        text-align: right;\n",
       "    }\n",
       "</style>\n",
       "<table border=\"1\" class=\"dataframe\">\n",
       "  <thead>\n",
       "    <tr style=\"text-align: right;\">\n",
       "      <th></th>\n",
       "      <th>Mkt-RF_loading_premium</th>\n",
       "      <th>SMB_loading_premium</th>\n",
       "      <th>HML_loading_premium</th>\n",
       "    </tr>\n",
       "  </thead>\n",
       "  <tbody>\n",
       "    <tr>\n",
       "      <th>Mkt-RF_loading_premium</th>\n",
       "      <td>0.057794</td>\n",
       "      <td>0.004415</td>\n",
       "      <td>-0.004651</td>\n",
       "    </tr>\n",
       "    <tr>\n",
       "      <th>SMB_loading_premium</th>\n",
       "      <td>0.004415</td>\n",
       "      <td>0.021420</td>\n",
       "      <td>0.000573</td>\n",
       "    </tr>\n",
       "    <tr>\n",
       "      <th>HML_loading_premium</th>\n",
       "      <td>-0.004651</td>\n",
       "      <td>0.000573</td>\n",
       "      <td>0.023793</td>\n",
       "    </tr>\n",
       "  </tbody>\n",
       "</table>\n",
       "</div>"
      ],
      "text/plain": [
       "                        Mkt-RF_loading_premium  SMB_loading_premium  \\\n",
       "Mkt-RF_loading_premium                0.057794             0.004415   \n",
       "SMB_loading_premium                   0.004415             0.021420   \n",
       "HML_loading_premium                  -0.004651             0.000573   \n",
       "\n",
       "                        HML_loading_premium  \n",
       "Mkt-RF_loading_premium            -0.004651  \n",
       "SMB_loading_premium                0.000573  \n",
       "HML_loading_premium                0.023793  "
      ]
     },
     "execution_count": 21,
     "metadata": {},
     "output_type": "execute_result"
    }
   ],
   "source": [
    "# Factor covariance matrix\n",
    "factor_cov_matrix = expected_factor_cov_matrix * 252\n",
    "# save to a .tex\n",
    "factor_cov_matrix.to_latex('../figs/factor_cov_matrix.tex', index=True, float_format=\"%.2f\")\n",
    "factor_cov_matrix"
   ]
  },
  {
   "cell_type": "code",
   "execution_count": null,
   "id": "22501ff2",
   "metadata": {},
   "outputs": [],
   "source": [
    "# To note! We do not test for the statistical significance of the factor loadings and risk premiums for the purpose of brevity."
   ]
  }
 ],
 "metadata": {
  "kernelspec": {
   "display_name": ".venv",
   "language": "python",
   "name": "python3"
  },
  "language_info": {
   "codemirror_mode": {
    "name": "ipython",
    "version": 3
   },
   "file_extension": ".py",
   "mimetype": "text/x-python",
   "name": "python",
   "nbconvert_exporter": "python",
   "pygments_lexer": "ipython3",
   "version": "3.11.11"
  }
 },
 "nbformat": 4,
 "nbformat_minor": 5
}
